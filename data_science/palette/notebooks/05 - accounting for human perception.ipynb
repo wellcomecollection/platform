{
 "cells": [
  {
   "cell_type": "code",
   "execution_count": null,
   "metadata": {},
   "outputs": [],
   "source": [
    "%matplotlib inline\n",
    "import matplotlib.pyplot as plt\n",
    "import seaborn as sns\n",
    "sns.set_style('white')\n",
    "plt.rcParams['figure.figsize'] = (20, 20)\n",
    "\n",
    "import os\n",
    "import itertools\n",
    "import numpy as np\n",
    "import pandas as pd\n",
    "from PIL import Image\n",
    "\n",
    "from sklearn.cluster import KMeans\n",
    "from skimage.color import rgb2lab, lab2rgb\n",
    "from scipy.optimize import linear_sum_assignment\n",
    "from scipy.spatial.distance import cosine\n",
    "\n",
    "from tqdm import tqdm_notebook as tqdm"
   ]
  },
  {
   "cell_type": "code",
   "execution_count": null,
   "metadata": {},
   "outputs": [],
   "source": [
    "n_images = 200\n",
    "path_to_images = '../data/small_images/'\n",
    "\n",
    "image_ids = np.random.choice(os.listdir(path_to_images), n_images, replace=False)\n",
    "images = [Image.open(path_to_images + image_id) for image_id in tqdm(image_ids)]\n",
    "images = [Image.fromarray(np.stack((image,)*3, -1))\n",
    "          if len(np.array(image).shape) != 3 else image\n",
    "          for image in images]"
   ]
  },
  {
   "cell_type": "code",
   "execution_count": null,
   "metadata": {},
   "outputs": [],
   "source": [
    "pixel_lists = [np.array(image).reshape(-1, 3) for image in images]\n",
    "image_dict = dict(zip(image_ids, pixel_lists))"
   ]
  },
  {
   "cell_type": "markdown",
   "metadata": {},
   "source": [
    "according to [wikipedia](https://en.wikipedia.org/wiki/Color_difference), this:\n",
    "\n",
    "$${\\displaystyle \\Delta C={\\sqrt {2\\times \\Delta R^{2}+4\\times \\Delta G^{2}+3\\times \\Delta B^{2}+{{{\\bar {r}}\\times (\\Delta R^{2}-\\Delta B^{2})} \\over {256}}}}}$$\n",
    "\n",
    "is a better colour distance than raw euclidian distance of RGB. Here it is in python"
   ]
  },
  {
   "cell_type": "code",
   "execution_count": null,
   "metadata": {},
   "outputs": [],
   "source": [
    "def colour_distance(colour_1, colour_2):\n",
    "    r_1, g_1, b_1 = colour_1\n",
    "    r_2, g_2, b_2 = colour_2\n",
    "    \n",
    "    d_r_sq = (r_1 - r_2) ** 2\n",
    "    d_g_sq = (g_1 - g_2) ** 2\n",
    "    d_b_sq = (b_1 - b_2) ** 2\n",
    "    mean_r = (r_1 + r_2) / 2\n",
    "    \n",
    "    d_c_sq = (2 * d_r_sq + \n",
    "              4 * d_g_sq + \n",
    "              3 * d_b_sq +\n",
    "              (mean_r * (d_r_sq - d_b_sq) / 256))\n",
    "\n",
    "    return d_c_sq ** 0.5"
   ]
  },
  {
   "cell_type": "code",
   "execution_count": null,
   "metadata": {},
   "outputs": [],
   "source": [
    "step = 5\n",
    "r_1 = np.arange(step * 2)\n",
    "r_2 = np.arange(step * 4)\n",
    "r_3 = np.arange(step * 3)\n",
    "\n",
    "bins = [str(list(bin)) for bin in list(itertools.product(r_1, r_2, r_3))]\n",
    "\n",
    "bin_counts = pd.DataFrame(index=bins)\n",
    "\n",
    "for image_id, image in tqdm(image_dict.items()):\n",
    "    bin_counts[image_id] = pd.Series([str([int(i) for i in pixel / step_size])\n",
    "                                      for pixel in image]).value_counts()\n",
    "\n",
    "bin_counts = bin_counts.fillna(0)"
   ]
  },
  {
   "cell_type": "code",
   "execution_count": null,
   "metadata": {},
   "outputs": [],
   "source": [
    "embedding = UMAP().fit_transform(bin_counts.T.values)\n",
    "\n",
    "plt.scatter(x=embedding[:, 0], y=embedding[:, 1]);"
   ]
  },
  {
   "cell_type": "code",
   "execution_count": null,
   "metadata": {},
   "outputs": [],
   "source": [
    "image_dict = dict(zip(image_ids, images))\n",
    "\n",
    "similarity = pd.DataFrame(data=[[cosine(bin_counts[image_1], bin_counts[image_2])\n",
    "                                 for image_1 in image_ids] for image_2 in tqdm(image_ids)],\n",
    "                          index=image_ids,\n",
    "                          columns=image_ids)"
   ]
  },
  {
   "cell_type": "code",
   "execution_count": null,
   "metadata": {},
   "outputs": [],
   "source": [
    "sns.heatmap(similarity);"
   ]
  },
  {
   "cell_type": "code",
   "execution_count": null,
   "metadata": {},
   "outputs": [],
   "source": [
    "query_id = np.random.choice(image_ids)\n",
    "image_dict[query_id]"
   ]
  },
  {
   "cell_type": "code",
   "execution_count": null,
   "metadata": {},
   "outputs": [],
   "source": [
    "resolution = 200\n",
    "n_similar = 10\n",
    "\n",
    "most_similar_ids = similarity[query_id].sort_values().index.values[1 : n_similar + 1]\n",
    "similar_images = [image_dict[id].resize((resolution, resolution)) for id in most_similar_ids]\n",
    "Image.fromarray(np.hstack([np.array(image) \n",
    "                           for image in similar_images])\n",
    "                .reshape(resolution, n_similar * resolution, 3))"
   ]
  },
  {
   "cell_type": "markdown",
   "metadata": {},
   "source": [
    "# start exploring CIELAB space instead"
   ]
  },
  {
   "cell_type": "markdown",
   "metadata": {},
   "source": [
    "https://www.slideshare.net/slideshow/embed_code/key/K4j44642NfjNLS"
   ]
  },
  {
   "cell_type": "markdown",
   "metadata": {},
   "source": [
    "- http://gfx.cs.princeton.edu/pubs/Chang_2015_PPR/chang2015-palette_small.pdf\n",
    "- https://sci-hub.tw/https://epubs.siam.org/doi/10.1137/05064206X"
   ]
  },
  {
   "cell_type": "markdown",
   "metadata": {},
   "source": [
    "- deterministic seeding strategy that increases distance between clusters before running k-means. not sure what to do about this. seems like thesis p3.2 details it\n",
    "\n"
   ]
  },
  {
   "cell_type": "code",
   "execution_count": null,
   "metadata": {},
   "outputs": [],
   "source": []
  },
  {
   "cell_type": "code",
   "execution_count": null,
   "metadata": {},
   "outputs": [],
   "source": [
    "lab_images = [color.rgb2lab(np.array(image)).reshape(-1, 3) for image in tqdm(images)]"
   ]
  },
  {
   "cell_type": "code",
   "execution_count": null,
   "metadata": {},
   "outputs": [],
   "source": [
    "lab_image_dict = dict(zip(image_ids, lab_images))"
   ]
  },
  {
   "cell_type": "code",
   "execution_count": null,
   "metadata": {},
   "outputs": [],
   "source": [
    "bins = [str(list(bin)) for bin in list(itertools.product(range(16), range(16), range(16)))]\n",
    "\n",
    "bin_counts = pd.DataFrame(index=bins)\n",
    "\n",
    "for image_id, image in tqdm(lab_image_dict.items()):\n",
    "    bin_counts[image_id] = pd.Series([str([int(i) for i in pixel / step_size])\n",
    "                                      for pixel in image]).value_counts()\n",
    "\n",
    "bin_counts = bin_counts.fillna(0)"
   ]
  },
  {
   "cell_type": "code",
   "execution_count": null,
   "metadata": {},
   "outputs": [],
   "source": [
    "embedding = UMAP().fit_transform(bin_counts.T.values)\n",
    "\n",
    "plt.scatter(x=embedding[:, 0], y=embedding[:, 1]);"
   ]
  },
  {
   "cell_type": "code",
   "execution_count": null,
   "metadata": {},
   "outputs": [],
   "source": [
    "AgglomerativeClustering(n_clusters=5).fit_predict(lab_images[0])"
   ]
  },
  {
   "cell_type": "markdown",
   "metadata": {},
   "source": [
    "### get `grid_centres` in rgb space"
   ]
  },
  {
   "cell_type": "code",
   "execution_count": null,
   "metadata": {},
   "outputs": [],
   "source": [
    "path_to_images = '../data/small_images/'\n",
    "image_id = np.random.choice(os.listdir(path_to_images))\n",
    "image = Image.open(path_to_images + image_id)\n",
    "\n",
    "if len(np.array(image).shape) != 3:\n",
    "    image = Image.fromarray(np.stack((image,)*3, -1))\n",
    "\n",
    "print(image_id.replace('.jpg', ''))\n",
    "\n",
    "image"
   ]
  },
  {
   "cell_type": "code",
   "execution_count": null,
   "metadata": {},
   "outputs": [],
   "source": [
    "r, g, b = np.array(image).reshape(3, -1)"
   ]
  },
  {
   "cell_type": "code",
   "execution_count": null,
   "metadata": {},
   "outputs": [],
   "source": [
    "hist, bins = np.histogramdd(np.array(image).reshape(-1, 3),\n",
    "                            bins=16,\n",
    "                            range=[[0, 255], [0, 255], [0, 255]])\n",
    "\n",
    "bin_vector = hist.flatten()"
   ]
  },
  {
   "cell_type": "markdown",
   "metadata": {},
   "source": [
    "keep track of the mean lab colour for each bin"
   ]
  },
  {
   "cell_type": "code",
   "execution_count": null,
   "metadata": {},
   "outputs": [],
   "source": [
    "from skimage.color import rgb2lab"
   ]
  },
  {
   "cell_type": "code",
   "execution_count": null,
   "metadata": {},
   "outputs": [],
   "source": [
    "mean_bin_lab = rgb2lab((np.array(list((itertools.product(bins[0][:-1], \n",
    "                                                         repeat=3)))) \n",
    "                        + 8)\n",
    "                       .reshape(64, 64, 3))"
   ]
  },
  {
   "cell_type": "markdown",
   "metadata": {},
   "source": [
    "below is our unstacked colour space of 4096 LAB colours"
   ]
  },
  {
   "cell_type": "code",
   "execution_count": null,
   "metadata": {},
   "outputs": [],
   "source": [
    "Image.fromarray((np.array(list((itertools.product(bins[0][:-1], repeat=3)))) + 8).reshape(16, 256, 3).astype(np.uint8))"
   ]
  },
  {
   "cell_type": "markdown",
   "metadata": {},
   "source": [
    "instead of using the exact colour we'll instead use the bin centers"
   ]
  },
  {
   "cell_type": "markdown",
   "metadata": {},
   "source": [
    "# solving the assignment problem\n",
    "this doesn't need to be perfect - hopefully [CIE76](https://en.wikipedia.org/wiki/Color_difference#CIELAB_Delta_E*) (ie. euclidian distance in CIELAB space) is sufficient."
   ]
  },
  {
   "cell_type": "code",
   "execution_count": null,
   "metadata": {},
   "outputs": [],
   "source": [
    "path_to_images = '../data/small_images/'\n",
    "image_1 = Image.open(path_to_images + np.random.choice(os.listdir(path_to_images)))\n",
    "image_2 = Image.open(path_to_images + np.random.choice(os.listdir(path_to_images)))"
   ]
  },
  {
   "cell_type": "code",
   "execution_count": null,
   "metadata": {},
   "outputs": [],
   "source": [
    "image_1"
   ]
  },
  {
   "cell_type": "code",
   "execution_count": null,
   "metadata": {},
   "outputs": [],
   "source": [
    "image_2"
   ]
  },
  {
   "cell_type": "code",
   "execution_count": null,
   "metadata": {},
   "outputs": [],
   "source": [
    "def get_palette(image, palette_size=5, image_size=100):\n",
    "    if len(np.array(image).shape) < 3:\n",
    "        image = Image.fromarray(np.stack((image,)*3, -1))\n",
    "        \n",
    "    image = image.resize((image_size, image_size))\n",
    "    lab_image = rgb2lab(np.array(image)).reshape(-1, 3)\n",
    "    clusters = KMeans(n_clusters=palette_size).fit(lab_image)\n",
    "    return [colour.tolist() for colour in clusters.cluster_centers_]\n",
    "\n",
    "\n",
    "def display_palette(palette_colours, palette_size=5, image_size=100):\n",
    "    stretched_colours = [(lab2rgb(np.array(colour * image_size * image_size)\n",
    "                                  .reshape(image_size, image_size, 3)) * 255)\n",
    "                         .astype(np.uint8) \n",
    "                         for colour in palette_colours]\n",
    "    \n",
    "    palette_array = (np.hstack(stretched_colours)\n",
    "                     .reshape((image_size, \n",
    "                               image_size * palette_size, \n",
    "                               3)))\n",
    "\n",
    "    return Image.fromarray(palette_array)\n",
    "\n",
    "\n",
    "def colour_distance(colour_1, colour_2):\n",
    "    return sum([(a - b) ** 2 for a, b in zip(colour_1, colour_2)]) ** 0.5"
   ]
  },
  {
   "cell_type": "code",
   "execution_count": null,
   "metadata": {},
   "outputs": [],
   "source": [
    "palette_1 = get_palette(image_1)\n",
    "display_palette(palette_1)"
   ]
  },
  {
   "cell_type": "code",
   "execution_count": null,
   "metadata": {},
   "outputs": [],
   "source": [
    "palette_2 = get_palette(image_2)\n",
    "display_palette(palette_2)"
   ]
  },
  {
   "cell_type": "code",
   "execution_count": null,
   "metadata": {},
   "outputs": [],
   "source": [
    "distances = [[sum(np.array(c_1) - np.array(c_2)) ** 2\n",
    "              for c_1 in palette_1] \n",
    "             for c_2 in palette_2]\n",
    "\n",
    "reorder_2, reorder_1 = linear_sum_assignment(distances)"
   ]
  },
  {
   "cell_type": "code",
   "execution_count": null,
   "metadata": {},
   "outputs": [],
   "source": [
    "palette_1_reordered = [palette_1[i] for i in reorder_1]\n",
    "display_palette(palette_1_reordered)"
   ]
  },
  {
   "cell_type": "code",
   "execution_count": null,
   "metadata": {},
   "outputs": [],
   "source": [
    "palette_2_reordered = [palette_2[i] for i in reorder_2]\n",
    "display_palette(palette_2_reordered)"
   ]
  },
  {
   "cell_type": "markdown",
   "metadata": {},
   "source": [
    "# large scale palette similarity"
   ]
  },
  {
   "cell_type": "code",
   "execution_count": null,
   "metadata": {},
   "outputs": [],
   "source": [
    "palette_1, palette_2 = [palettes[id] for id in np.random.choice(list(image_ids), 2)]"
   ]
  },
  {
   "cell_type": "code",
   "execution_count": null,
   "metadata": {},
   "outputs": [],
   "source": [
    "palette_1, palette_2 = [palettes[id] for id in np.random.choice(list(image_ids), 2)]\n",
    "\n",
    "def palette_distance(palette_1, palette_2):\n",
    "    distances = [[colour_distance(c_1, c_2)\n",
    "              for c_2 in palette_2] for c_1 in palette_1]\n",
    "\n",
    "    _, rearrangement = linear_sum_assignment(distances)\n",
    "    palette_2 = [palette_2[i] for i in rearrangement]\n",
    "\n",
    "    palette_distance = sum([colour_distance(c_1, c_2) \n",
    "                            for c_1, c_2 in zip(palette_1, palette_2)])\n",
    "    \n",
    "    return palette_distance"
   ]
  },
  {
   "cell_type": "code",
   "execution_count": null,
   "metadata": {},
   "outputs": [],
   "source": [
    "palette_distances = pd.DataFrame({id_1: {id_2: palette_distance(p_1, p_2) \n",
    "                                         for id_2, p_2 in palettes.items()}\n",
    "                                  for id_1, p_1 in tqdm(palettes.items())})"
   ]
  },
  {
   "cell_type": "code",
   "execution_count": null,
   "metadata": {},
   "outputs": [],
   "source": [
    "sns.heatmap(palette_distances);"
   ]
  },
  {
   "cell_type": "code",
   "execution_count": null,
   "metadata": {},
   "outputs": [],
   "source": [
    "query_id = np.random.choice(image_ids)\n",
    "most_similar_palette = palette_distances[query_id].sort_values().index.values[1]\n",
    "print(query_id, most_similar_palette)"
   ]
  },
  {
   "cell_type": "code",
   "execution_count": null,
   "metadata": {},
   "outputs": [],
   "source": [
    "display_palette(get_palette(Image.open('../data/small_images/' + query_id)))"
   ]
  },
  {
   "cell_type": "code",
   "execution_count": null,
   "metadata": {},
   "outputs": [],
   "source": [
    "display_palette(get_palette(Image.open('../data/small_images/' + most_similar_palette)))"
   ]
  },
  {
   "cell_type": "markdown",
   "metadata": {},
   "source": [
    "# palette-based search"
   ]
  },
  {
   "cell_type": "code",
   "execution_count": null,
   "metadata": {},
   "outputs": [],
   "source": [
    "query_id = np.random.choice(image_ids)\n",
    "\n",
    "resolution = 500\n",
    "n_similar = 10\n",
    "\n",
    "most_similar_ids = palette_distances[query_id].sort_values().index.values[:n_similar]\n",
    "similar_images = [images[image_id].resize((resolution, resolution)) \n",
    "                  for image_id in most_similar_ids]\n",
    "\n",
    "Image.fromarray(np.hstack([np.array(image) for image in similar_images]).reshape(resolution, n_similar*resolution, 3))"
   ]
  },
  {
   "cell_type": "code",
   "execution_count": null,
   "metadata": {},
   "outputs": [],
   "source": []
  }
 ],
 "metadata": {
  "kernelspec": {
   "display_name": "Python 3",
   "language": "python",
   "name": "python3"
  },
  "language_info": {
   "codemirror_mode": {
    "name": "ipython",
    "version": 3
   },
   "file_extension": ".py",
   "mimetype": "text/x-python",
   "name": "python",
   "nbconvert_exporter": "python",
   "pygments_lexer": "ipython3",
   "version": "3.6.4"
  }
 },
 "nbformat": 4,
 "nbformat_minor": 2
}
