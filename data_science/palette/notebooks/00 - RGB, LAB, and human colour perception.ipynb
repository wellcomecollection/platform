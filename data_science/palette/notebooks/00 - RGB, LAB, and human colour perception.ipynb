{
 "cells": [
  {
   "cell_type": "markdown",
   "metadata": {},
   "source": [
    "# RGB and CIE\n",
    "In this project we'll regularly need to calculate distances between pixels in colour space as a proxy for the visual difference between the colours. The simplest way of doing this is to calculate the cosine/euclidian/l2 distance, as written below in maths and python:\n",
    "\n",
    "${\\displaystyle \\Delta C ={\\sqrt {(R_{2}-R_{1})^{2}+(G_{2}-G_{1})^{2}+(B_{2}-B_{1})^{2}}}}$"
   ]
  },
  {
   "cell_type": "code",
   "execution_count": null,
   "metadata": {},
   "outputs": [],
   "source": [
    "def colour_distance(colour_1, colour_2):\n",
    "    return sum([(a - b) ** 2 for a, b in zip(colour_1, colour_2)]) ** 0.5"
   ]
  },
  {
   "cell_type": "markdown",
   "metadata": {},
   "source": [
    "The red, green, and blue channels available to us in RGB space are ideally suited for representing colour on pixelated screens. However, our goal is to represent the _differences_ between colours, and RGB isn't ideal for this. It's now [pretty well established](https://en.wikipedia.org/wiki/Color_difference) that euclidian distances in RGB space are a bad representation of the distances that our eyes see.\n",
    "By stretching the RGB dimensions by different amounts, we can better approximate that difference:\n",
    "\n",
    "${\\displaystyle {\\sqrt {2\\times \\Delta R^{2}+4\\times \\Delta G^{2}+3\\times \\Delta B^{2}}}}$\n",
    "\n",
    "Again, here's the python"
   ]
  },
  {
   "cell_type": "code",
   "execution_count": null,
   "metadata": {},
   "outputs": [],
   "source": [
    "def colour_distance(colour_1, colour_2):\n",
    "    r_1, g_1, b_1 = colour_1\n",
    "    r_2, g_2, b_2 = colour_2\n",
    "\n",
    "    return (2 * (r_1 - r_2) ** 2 +\n",
    "            4 * (g_1 - g_2) ** 2 +\n",
    "            3 * (b_1 - b_2) ** 2) ** 0.5"
   ]
  },
  {
   "cell_type": "markdown",
   "metadata": {},
   "source": [
    "We can improve further by adding some extra weirdness to the red and blue channels at the end\n",
    "\n",
    "${\\displaystyle \\Delta C={\\sqrt {2\\times \\Delta R^{2}+4\\times \\Delta G^{2}+3\\times \\Delta B^{2}+{{{\\bar {r}}\\times (\\Delta R^{2}-\\Delta B^{2})} \\over {256}}}}}$\n",
    "\n",
    "Here it is in python"
   ]
  },
  {
   "cell_type": "code",
   "execution_count": null,
   "metadata": {},
   "outputs": [],
   "source": [
    "def colour_distance(colour_1, colour_2):\n",
    "    r_1, g_1, b_1 = colour_1\n",
    "    r_2, g_2, b_2 = colour_2\n",
    "    \n",
    "    d_r_sq = (r_1 - r_2) ** 2\n",
    "    d_g_sq = (g_1 - g_2) ** 2\n",
    "    d_b_sq = (b_1 - b_2) ** 2\n",
    "    mean_r = (r_1 + r_2) / 2\n",
    "    \n",
    "    d_c_sq = (2 * d_r_sq + 4 * d_g_sq + 3 * d_b_sq +\n",
    "              (mean_r * (d_r_sq - d_b_sq) / 256))\n",
    "\n",
    "    return d_c_sq ** 0.5"
   ]
  },
  {
   "cell_type": "markdown",
   "metadata": {},
   "source": [
    "The most general and efficient approach (as far as I know) is to transform the entire image's RGB coordinates into a new space. The CIE produced [CIELAB](https://en.wikipedia.org/wiki/CIELAB_color_space#CIELAB) to better approximate human perception. The axes of the space are as follows\n",
    "\n",
    "> The three coordinates of CIELAB represent the lightness of the color (`L` = 0 yields black and `L` = 100 indicates diffuse white; specular white may be higher), its position between red/magenta and green (`a`, negative values indicate green while positive values indicate magenta) and its position between yellow and blue (`b`, negative values indicate blue and positive values indicate yellow).\n",
    "\n",
    "[CIE76](https://en.wikipedia.org/wiki/Color_difference#CIE76) (ie euclidian distance in LAB space) was the original distance proposed with the space. It's been improved upon since, but the differences are minor and as far as I've seen, are unnecessary complications for such minimal gain.\n",
    "\n",
    "Implementing the map from RGB to LAB and back is incredibly simple - all we need to do is import the relevant function from `skimage`"
   ]
  },
  {
   "cell_type": "code",
   "execution_count": null,
   "metadata": {},
   "outputs": [],
   "source": [
    "from skimage.color import rgb2lab, lab2rgb"
   ]
  },
  {
   "cell_type": "markdown",
   "metadata": {},
   "source": [
    "We can now use our original, super-simple colour distance!"
   ]
  }
 ],
 "metadata": {
  "kernelspec": {
   "display_name": "Python 3",
   "language": "python",
   "name": "python3"
  },
  "language_info": {
   "codemirror_mode": {
    "name": "ipython",
    "version": 3
   },
   "file_extension": ".py",
   "mimetype": "text/x-python",
   "name": "python",
   "nbconvert_exporter": "python",
   "pygments_lexer": "ipython3",
   "version": "3.6.4"
  }
 },
 "nbformat": 4,
 "nbformat_minor": 2
}
