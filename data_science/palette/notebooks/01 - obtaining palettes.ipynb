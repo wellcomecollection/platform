{
 "cells": [
  {
   "cell_type": "code",
   "execution_count": null,
   "metadata": {},
   "outputs": [],
   "source": [
    "%matplotlib inline\n",
    "import matplotlib.pyplot as plt\n",
    "import seaborn as sns\n",
    "sns.set_style('white')\n",
    "plt.rcParams['figure.figsize'] = (20, 20)\n",
    "\n",
    "import os\n",
    "from PIL import Image\n",
    "import numpy as np\n",
    "from skimage.color import rgb2lab, lab2rgb\n",
    "from sklearn.cluster import KMeans, AgglomerativeClustering, SpectralClustering\n",
    "from sklearn.mixture import GaussianMixture"
   ]
  },
  {
   "cell_type": "code",
   "execution_count": null,
   "metadata": {},
   "outputs": [],
   "source": [
    "path_to_images = '../data/small_images/'\n",
    "image_id = np.random.choice(os.listdir(path_to_images))\n",
    "image = Image.open(path_to_images + image_id)\n",
    "\n",
    "if len(np.array(image).shape) != 3:\n",
    "    image = Image.fromarray(np.stack((image,)*3, -1))\n",
    "\n",
    "print(image_id.replace('.jpg', ''))\n",
    "\n",
    "image"
   ]
  },
  {
   "cell_type": "code",
   "execution_count": null,
   "metadata": {},
   "outputs": [],
   "source": [
    "image_size = 100\n",
    "n_clusters = 5\n",
    "\n",
    "image = image.resize((image_size, image_size))\n",
    "\n",
    "\n",
    "lab_image = rgb2lab(np.array(image)).reshape(-1, 3)\n",
    "\n",
    "cluster = (KMeans(n_clusters=n_clusters)\n",
    "           .fit(lab_image))\n",
    "\n",
    "colours = [colour.tolist() for colour in cluster.cluster_centers_]\n",
    "\n",
    "palette = (np.hstack([(lab2rgb(np.array(colour * image_size * image_size)\n",
    "                               .reshape(image_size, image_size, 3)) * 255)\n",
    "                      .astype(np.uint8)\n",
    "                      for colour in colours])\n",
    "           .reshape((image_size, image_size * n_clusters, 3)))\n",
    "\n",
    "Image.fromarray(palette)"
   ]
  },
  {
   "cell_type": "code",
   "execution_count": null,
   "metadata": {},
   "outputs": [],
   "source": [
    "rgb_colours = [((lab2rgb(np.array(colour).reshape(1, 1, 3)) * 255).astype(np.uint8).squeeze().tolist())\n",
    "               for colour in colours]\n",
    "\n",
    "\n",
    "for colour in rgb_colours:\n",
    "    print(colour)"
   ]
  },
  {
   "cell_type": "code",
   "execution_count": null,
   "metadata": {},
   "outputs": [],
   "source": [
    "def rgb_to_hex(rgb_list):\n",
    "    r, g, b = [int(round(channel)) for channel in rgb_list]\n",
    "    return \"#{:02x}{:02x}{:02x}\".format(r, g, b)\n",
    "\n",
    "for colour in rgb_colours:\n",
    "    print(rgb_to_hex(colour))"
   ]
  },
  {
   "cell_type": "markdown",
   "metadata": {},
   "source": [
    "not incorporating the $\\sigma$ parameter here... might do at a later stage"
   ]
  },
  {
   "cell_type": "code",
   "execution_count": null,
   "metadata": {},
   "outputs": [],
   "source": []
  }
 ],
 "metadata": {
  "kernelspec": {
   "display_name": "Python 3",
   "language": "python",
   "name": "python3"
  },
  "language_info": {
   "codemirror_mode": {
    "name": "ipython",
    "version": 3
   },
   "file_extension": ".py",
   "mimetype": "text/x-python",
   "name": "python",
   "nbconvert_exporter": "python",
   "pygments_lexer": "ipython3",
   "version": "3.6.4"
  }
 },
 "nbformat": 4,
 "nbformat_minor": 2
}
