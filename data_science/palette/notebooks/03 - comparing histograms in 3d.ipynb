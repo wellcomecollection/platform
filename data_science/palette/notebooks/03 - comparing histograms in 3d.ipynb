{
 "cells": [
  {
   "cell_type": "code",
   "execution_count": null,
   "metadata": {},
   "outputs": [],
   "source": [
    "%matplotlib inline\n",
    "import matplotlib.pyplot as plt\n",
    "import seaborn as sns\n",
    "sns.set_style('white')\n",
    "plt.rcParams['figure.figsize'] = (20, 20)\n",
    "\n",
    "import os\n",
    "import itertools\n",
    "import numpy as np\n",
    "import pandas as pd\n",
    "from PIL import Image\n",
    "\n",
    "from umap import UMAP\n",
    "from scipy.spatial.distance import cosine\n",
    "\n",
    "from tqdm import tqdm_notebook as tqdm"
   ]
  },
  {
   "cell_type": "code",
   "execution_count": null,
   "metadata": {},
   "outputs": [],
   "source": [
    "size = 20\n",
    "n_images = size ** 2\n",
    "path_to_images = '../data/small_images/'\n",
    "\n",
    "image_ids = np.random.choice(os.listdir(path_to_images), n_images, replace=False)\n",
    "images = [Image.open(path_to_images + image_id) for image_id in tqdm(image_ids)]\n",
    "images = [Image.fromarray(np.stack((image,)*3, -1))\n",
    "          if len(np.array(image).shape) != 3 else image\n",
    "          for image in images]"
   ]
  },
  {
   "cell_type": "markdown",
   "metadata": {},
   "source": [
    "each pixel in the image is treated as a point in 3d space. we evenly bin that 3d space and produce counts of the pixels appearing in each"
   ]
  },
  {
   "cell_type": "code",
   "execution_count": null,
   "metadata": {},
   "outputs": [],
   "source": [
    "pixel_lists = [np.array(image).reshape(-1, 3) for image in images]\n",
    "image_dict = dict(zip(image_ids, pixel_lists))"
   ]
  },
  {
   "cell_type": "code",
   "execution_count": null,
   "metadata": {},
   "outputs": [],
   "source": [
    "step_size = 10\n",
    "r = range(step_size)\n",
    "bins = [str(list(bin)) for bin in list(itertools.product(r, r, r))]\n",
    "\n",
    "bin_counts = pd.DataFrame(index=bins)\n",
    "\n",
    "for image_id, image in tqdm(image_dict.items()):\n",
    "    bin_counts[image_id] = pd.Series([str([int(i) for i in pixel / step_size])\n",
    "                                      for pixel in image]).value_counts()\n",
    "\n",
    "bin_counts = bin_counts.fillna(0)"
   ]
  },
  {
   "cell_type": "code",
   "execution_count": null,
   "metadata": {},
   "outputs": [],
   "source": [
    "embedding = UMAP().fit_transform(bin_counts.T.values)"
   ]
  },
  {
   "cell_type": "code",
   "execution_count": null,
   "metadata": {},
   "outputs": [],
   "source": [
    "plt.scatter(x=embedding[:, 0], y=embedding[:, 1]);"
   ]
  },
  {
   "cell_type": "code",
   "execution_count": null,
   "metadata": {},
   "outputs": [],
   "source": [
    "image_dict = dict(zip(image_ids, images))\n",
    "\n",
    "similarity = pd.DataFrame(data=[[cosine(bin_counts[image_1], bin_counts[image_2])\n",
    "                                 for image_1 in image_ids] for image_2 in tqdm(image_ids)],\n",
    "                          index=image_ids,\n",
    "                          columns=image_ids)"
   ]
  },
  {
   "cell_type": "code",
   "execution_count": null,
   "metadata": {},
   "outputs": [],
   "source": [
    "sns.heatmap(similarity);"
   ]
  },
  {
   "cell_type": "code",
   "execution_count": null,
   "metadata": {},
   "outputs": [],
   "source": [
    "id = np.random.choice(image_ids)\n",
    "image_dict[id]"
   ]
  },
  {
   "cell_type": "code",
   "execution_count": null,
   "metadata": {},
   "outputs": [],
   "source": [
    "resolution = 200\n",
    "n_similar = 10\n",
    "\n",
    "most_similar_ids = similarity[id].sort_values().index.values[1 : n_similar + 1]\n",
    "similar_images = [image_dict[id].resize((resolution, resolution)) for id in most_similar_ids]\n",
    "Image.fromarray(np.hstack([np.array(image) \n",
    "                           for image in similar_images])\n",
    "                .reshape(resolution, n_similar * resolution, 3))"
   ]
  },
  {
   "cell_type": "code",
   "execution_count": null,
   "metadata": {},
   "outputs": [],
   "source": []
  }
 ],
 "metadata": {
  "kernelspec": {
   "display_name": "Python 3",
   "language": "python",
   "name": "python3"
  },
  "language_info": {
   "codemirror_mode": {
    "name": "ipython",
    "version": 3
   },
   "file_extension": ".py",
   "mimetype": "text/x-python",
   "name": "python",
   "nbconvert_exporter": "python",
   "pygments_lexer": "ipython3",
   "version": "3.6.4"
  }
 },
 "nbformat": 4,
 "nbformat_minor": 2
}
