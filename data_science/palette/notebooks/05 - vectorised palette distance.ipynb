{
 "cells": [
  {
   "cell_type": "code",
   "execution_count": null,
   "metadata": {},
   "outputs": [],
   "source": [
    "%matplotlib inline\n",
    "import matplotlib.pyplot as plt\n",
    "import seaborn as sns\n",
    "sns.set_style('white')\n",
    "plt.rcParams['figure.figsize'] = (20, 20)\n",
    "\n",
    "import os\n",
    "import itertools\n",
    "import numpy as np\n",
    "import pandas as pd\n",
    "from PIL import Image\n",
    "\n",
    "from sklearn.cluster import KMeans\n",
    "from skimage.color import rgb2lab, lab2rgb\n",
    "from scipy.optimize import linear_sum_assignment\n",
    "from scipy.spatial.distance import cosine\n",
    "from scipy.spatial.distance import cdist\n",
    "\n",
    "from tqdm import tqdm_notebook as tqdm"
   ]
  },
  {
   "cell_type": "code",
   "execution_count": null,
   "metadata": {},
   "outputs": [],
   "source": [
    "def display_palette(palette_colours, image_size=100, big=False):\n",
    "    palette_size=len(palette_colours)\n",
    "    \n",
    "    scale = 1\n",
    "    if big: scale = 5\n",
    "    \n",
    "    stretched_colours = [(lab2rgb(np.array(colour.tolist() * image_size * image_size * scale)\n",
    "                                  .reshape(image_size * scale, image_size, 3)) * 255)\n",
    "                         .astype(np.uint8) \n",
    "                         for colour in palette_colours]\n",
    "    \n",
    "    palette_array = (np.hstack(stretched_colours)\n",
    "                     .reshape((image_size * scale, \n",
    "                               image_size * palette_size, \n",
    "                               3)))\n",
    "\n",
    "    return Image.fromarray(palette_array)\n",
    "\n",
    "def get_palette(image, palette_size=5, image_size=75):\n",
    "    image = image.resize((image_size, image_size),\n",
    "                         resample=Image.BILINEAR)\n",
    "    lab_image = rgb2lab(np.array(image)).reshape(-1, 3)\n",
    "    clusters = KMeans(n_clusters=palette_size).fit(lab_image)\n",
    "    return clusters.cluster_centers_"
   ]
  },
  {
   "cell_type": "code",
   "execution_count": null,
   "metadata": {},
   "outputs": [],
   "source": [
    "n_images = 15000\n",
    "path_to_images = '../data/small_images/'\n",
    "\n",
    "random_ids = np.random.choice(os.listdir(path_to_images), \n",
    "                              n_images, \n",
    "                              replace=False)\n",
    "\n",
    "random_ids = np.sort(random_ids)"
   ]
  },
  {
   "cell_type": "code",
   "execution_count": null,
   "metadata": {},
   "outputs": [],
   "source": [
    "image_dict = {}\n",
    "palette_dict = {}\n",
    "\n",
    "for image_id in tqdm(random_ids):\n",
    "    try: \n",
    "        image = Image.open(path_to_images + image_id)\n",
    "        \n",
    "        if len(np.array(image).shape) != 3:\n",
    "            image = Image.fromarray(np.stack((image,)*3, -1))\n",
    "        \n",
    "        image_dict[image_id] = image\n",
    "        palette_dict[image_id] = get_palette(image)\n",
    "    except: \n",
    "        pass"
   ]
  },
  {
   "cell_type": "code",
   "execution_count": null,
   "metadata": {},
   "outputs": [],
   "source": [
    "image_ids = np.sort(list(image_dict.keys()))\n",
    "len(image_ids)"
   ]
  },
  {
   "cell_type": "markdown",
   "metadata": {},
   "source": [
    "# run the linear assignment problem for each palette, rearanging them to match the query"
   ]
  },
  {
   "cell_type": "code",
   "execution_count": null,
   "metadata": {},
   "outputs": [],
   "source": [
    "def colour_distance(colour_1, colour_2):\n",
    "    return sum([(a - b) ** 2 for a, b in zip(colour_1, colour_2)]) ** 0.5\n",
    "\n",
    "\n",
    "def assignment_switch(query_palette, palette_dict):\n",
    "    rearranged = []\n",
    "    for other_palette in palette_dict.values():\n",
    "        distances = [[colour_distance(c1, c2)\n",
    "                      for c2 in other_palette]\n",
    "                     for c1 in query_palette]\n",
    "        \n",
    "        _, rearrangement = linear_sum_assignment(distances)\n",
    "        rearranged.append([other_palette[i] for i in rearrangement])\n",
    "\n",
    "    return np.array(rearranged)"
   ]
  },
  {
   "cell_type": "code",
   "execution_count": null,
   "metadata": {},
   "outputs": [],
   "source": [
    "query_palette = palette_dict[np.random.choice(image_ids)]\n",
    "display_palette(query_palette)"
   ]
  },
  {
   "cell_type": "code",
   "execution_count": null,
   "metadata": {},
   "outputs": [],
   "source": [
    "rearranged = assignment_switch(query_palette, palette_dict)"
   ]
  },
  {
   "cell_type": "markdown",
   "metadata": {},
   "source": [
    "# initally \n",
    "assumed that i would have to recalculate the assignment for each row, but this issue is approximately solved by pre-computing the assignment for all palettes according to any randomly selected palette and then indexing off that complete reordered set. it's approximate, but it keeps this thing fast"
   ]
  },
  {
   "cell_type": "code",
   "execution_count": null,
   "metadata": {},
   "outputs": [],
   "source": [
    "palette_dict = dict(zip(image_ids, rearranged))"
   ]
  },
  {
   "cell_type": "code",
   "execution_count": null,
   "metadata": {},
   "outputs": [],
   "source": [
    "display_palette(rearranged[np.random.choice(len(rearranged))])"
   ]
  },
  {
   "cell_type": "markdown",
   "metadata": {},
   "source": [
    "# neat numpy implementation of colour_distance across the full reordered array\n",
    "note that it's now also GPU-able"
   ]
  },
  {
   "cell_type": "code",
   "execution_count": null,
   "metadata": {},
   "outputs": [],
   "source": [
    "def vectorised_palette_distance(rearranged, query_palette):\n",
    "    query = query_palette.reshape(-1, 1, 3)\n",
    "    palettes = [p.squeeze() for p in np.split(rearranged, 5, axis=1)]\n",
    "\n",
    "    colour_distances = np.stack([cdist(q, p, metric='cosine') \n",
    "                                 for q, p in zip(query, palettes)])\n",
    "    \n",
    "    palette_distances = np.sum(colour_distances.squeeze(), axis=0)\n",
    "    return palette_distances"
   ]
  },
  {
   "cell_type": "code",
   "execution_count": null,
   "metadata": {},
   "outputs": [],
   "source": [
    "palette_distances = pd.DataFrame()\n",
    "\n",
    "for query_id in tqdm(image_ids):\n",
    "    distances = vectorised_palette_distance(rearranged, palette_dict[query_id])\n",
    "    palette_distances[query_id] = pd.Series(dict(zip(image_ids, distances)))"
   ]
  },
  {
   "cell_type": "markdown",
   "metadata": {},
   "source": [
    "sns.heatmap(palette_distances);"
   ]
  },
  {
   "cell_type": "code",
   "execution_count": null,
   "metadata": {},
   "outputs": [],
   "source": [
    "query_id = np.random.choice(image_ids)\n",
    "image_dict[query_id]"
   ]
  },
  {
   "cell_type": "code",
   "execution_count": null,
   "metadata": {},
   "outputs": [],
   "source": [
    "display_palette(palette_dict[query_id])"
   ]
  },
  {
   "cell_type": "code",
   "execution_count": null,
   "metadata": {},
   "outputs": [],
   "source": [
    "res = 200\n",
    "n_similar = 36\n",
    "size = int(n_similar ** 0.5)\n",
    "\n",
    "big_image = np.empty((int(res * size), int(res * size), 3)).astype(np.uint8)\n",
    "grid = np.array(list(itertools.product(range(size), range(size))))\n",
    "\n",
    "most_similar_ids = palette_distances[query_id].sort_values().index.values[1 : n_similar+1]\n",
    "similar_images = [image_dict[image_id].resize((res, res), resample=Image.BILINEAR) \n",
    "                  for image_id in most_similar_ids]\n",
    "\n",
    "for pos, image in zip(grid, similar_images):\n",
    "    block_t, block_l = pos * res\n",
    "    block_b, block_r = (pos + 1) * res\n",
    "    \n",
    "    big_image[block_t : block_b, block_l : block_r] = np.array(image)\n",
    "\n",
    "Image.fromarray(big_image)"
   ]
  },
  {
   "cell_type": "code",
   "execution_count": null,
   "metadata": {},
   "outputs": [],
   "source": [
    "query_id"
   ]
  },
  {
   "cell_type": "code",
   "execution_count": null,
   "metadata": {},
   "outputs": [],
   "source": [
    "' '.join([id.replace('.jpg', '') for id in most_similar_ids])"
   ]
  },
  {
   "cell_type": "markdown",
   "metadata": {},
   "source": [
    "# custom reassignment for each work is way too slow (~2s /it)\n",
    "I could numpy-ify `assignment_switch()`..."
   ]
  }
 ],
 "metadata": {
  "kernelspec": {
   "display_name": "Python 3",
   "language": "python",
   "name": "python3"
  },
  "language_info": {
   "codemirror_mode": {
    "name": "ipython",
    "version": 3
   },
   "file_extension": ".py",
   "mimetype": "text/x-python",
   "name": "python",
   "nbconvert_exporter": "python",
   "pygments_lexer": "ipython3",
   "version": "3.6.4"
  }
 },
 "nbformat": 4,
 "nbformat_minor": 2
}
