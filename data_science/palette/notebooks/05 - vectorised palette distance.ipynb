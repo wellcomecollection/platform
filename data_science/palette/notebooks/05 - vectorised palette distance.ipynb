{
 "cells": [
  {
   "cell_type": "code",
   "execution_count": null,
   "metadata": {},
   "outputs": [],
   "source": [
    "%matplotlib inline\n",
    "import matplotlib.pyplot as plt\n",
    "import seaborn as sns\n",
    "sns.set_style('white')\n",
    "plt.rcParams['figure.figsize'] = (20, 20)\n",
    "\n",
    "import os\n",
    "import itertools\n",
    "import numpy as np\n",
    "import pandas as pd\n",
    "from PIL import Image\n",
    "\n",
    "from sklearn.cluster import KMeans\n",
    "from skimage.color import rgb2lab, lab2rgb\n",
    "from scipy.optimize import linear_sum_assignment\n",
    "from scipy.spatial.distance import cosine\n",
    "from scipy.spatial.distance import pdist, squareform\n",
    "\n",
    "from tqdm import tqdm_notebook as tqdm"
   ]
  },
  {
   "cell_type": "code",
   "execution_count": null,
   "metadata": {},
   "outputs": [],
   "source": [
    "def display_palette(palette_colours, image_size=100, big=False):\n",
    "    palette_size=len(palette_colours)\n",
    "    \n",
    "    scale = 1\n",
    "    if big: scale = 5\n",
    "    \n",
    "    stretched_colours = [(lab2rgb(np.array(colour.tolist() * image_size * image_size * scale)\n",
    "                                  .reshape(image_size * scale, image_size, 3)) * 255)\n",
    "                         .astype(np.uint8) \n",
    "                         for colour in palette_colours]\n",
    "    \n",
    "    palette_array = (np.hstack(stretched_colours)\n",
    "                     .reshape((image_size * scale, \n",
    "                               image_size * palette_size, \n",
    "                               3)))\n",
    "\n",
    "    return Image.fromarray(palette_array)\n",
    "\n",
    "def get_palette(image, palette_size=5, image_size=75):\n",
    "    image = image.resize((image_size, image_size),\n",
    "                         resample=Image.LANCZOS)\n",
    "    lab_image = rgb2lab(np.array(image)).reshape(-1, 3)\n",
    "    clusters = KMeans(n_clusters=palette_size).fit(lab_image)\n",
    "    return clusters.cluster_centers_\n",
    "\n",
    "\n",
    "def colour_distance(colour_1, colour_2):\n",
    "    return sum([(a - b) ** 2 for a, b in zip(colour_1, colour_2)]) ** 0.5\n",
    "\n",
    "\n",
    "def palette_distance(palette_1, palette_2):\n",
    "    distances = [[colour_distance(c_1, c_2)\n",
    "                  for c_2 in palette_2] \n",
    "                 for c_1 in palette_1]\n",
    "\n",
    "    _, rearrangement = linear_sum_assignment(distances)\n",
    "    palette_1 = [palette_1[i] for i in rearrangement]\n",
    "\n",
    "    palette_distance = sum([colour_distance(c_1, c_2) \n",
    "                            for c_1, c_2 in zip(palette_1, palette_2)])\n",
    "    \n",
    "    return palette_distance"
   ]
  },
  {
   "cell_type": "code",
   "execution_count": null,
   "metadata": {},
   "outputs": [],
   "source": [
    "n_images = 5000\n",
    "path_to_images = '../data/small_images/'\n",
    "\n",
    "random_ids = np.random.choice(os.listdir(path_to_images), \n",
    "                              n_images, \n",
    "                              replace=False)\n",
    "\n",
    "image_dict = {}\n",
    "palette_dict = {}\n",
    "\n",
    "for image_id in tqdm(random_ids):\n",
    "    try: \n",
    "        image = Image.open(path_to_images + image_id)\n",
    "        \n",
    "        if len(np.array(image).shape) != 3:\n",
    "            image = Image.fromarray(np.stack((image,)*3, -1))\n",
    "        \n",
    "        image_dict[image_id] = image\n",
    "        palette_dict[image_id] = get_palette(image)\n",
    "    except: \n",
    "        pass\n",
    "    \n",
    "image_ids = list(image_dict.keys())"
   ]
  },
  {
   "cell_type": "markdown",
   "metadata": {},
   "source": [
    "# run the linear assignment problem for each palette, rearanging them to match the query"
   ]
  },
  {
   "cell_type": "code",
   "execution_count": null,
   "metadata": {},
   "outputs": [],
   "source": [
    "def assignment_switch(query_palette, palette_dict):\n",
    "    rearranged = []\n",
    "    for other_palette in palette_dict.values():\n",
    "        distances = [[colour_distance(c1, c2)\n",
    "                      for c2 in other_palette]\n",
    "                     for c1 in query_palette]\n",
    "        \n",
    "        _, rearrangement = linear_sum_assignment(distances)\n",
    "        rearranged.append([other_palette[i] for i in rearrangement])\n",
    "\n",
    "    return np.array(rearranged)"
   ]
  },
  {
   "cell_type": "code",
   "execution_count": null,
   "metadata": {},
   "outputs": [],
   "source": [
    "query_palette = palette_dict[np.random.choice(image_ids)]\n",
    "rearranged = assignment_switch(query_palette, palette_dict)"
   ]
  },
  {
   "cell_type": "code",
   "execution_count": null,
   "metadata": {},
   "outputs": [],
   "source": [
    "%%timeit\n",
    "assignment_switch(query_palette, palette_dict)"
   ]
  },
  {
   "cell_type": "code",
   "execution_count": null,
   "metadata": {},
   "outputs": [],
   "source": [
    "display_palette(rearranged[np.random.choice(len(rearranged))])"
   ]
  },
  {
   "cell_type": "markdown",
   "metadata": {},
   "source": [
    "# neat numpy implementation of colour_distance across the full reordered array"
   ]
  },
  {
   "cell_type": "code",
   "execution_count": null,
   "metadata": {},
   "outputs": [],
   "source": [
    "def vectorised_palette_distance(rearranged, query_palette):\n",
    "    query = query_palette.reshape(-1, 1, 3)\n",
    "    palettes = [p.squeeze() for p in np.split(rearranged, 5, axis=1)]\n",
    "\n",
    "    colour_distances = np.stack([cdist(q, p, metric='cosine') \n",
    "                                 for q, p in zip(query, palettes)])\n",
    "    palette_distances = np.sum(colour_distances.squeeze(), axis=0)\n",
    "    return palette_distances"
   ]
  },
  {
   "cell_type": "code",
   "execution_count": null,
   "metadata": {},
   "outputs": [],
   "source": [
    "palette_distances = pd.DataFrame()\n",
    "\n",
    "for query_id in tqdm(image_ids):\n",
    "    distances = vectorised_palette_distance(rearranged, palette_dict[query_id])\n",
    "    palette_distances[query_id] = pd.Series(dict(zip(image_ids, distances)))"
   ]
  },
  {
   "cell_type": "code",
   "execution_count": null,
   "metadata": {},
   "outputs": [],
   "source": [
    "query_id = np.random.choice(image_ids)\n",
    "image_dict[query_id]"
   ]
  },
  {
   "cell_type": "code",
   "execution_count": null,
   "metadata": {},
   "outputs": [],
   "source": [
    "most_similar_ids = palette_distances[query_id].sort_values().index.values[1:6]\n",
    "similar_images = [image_dict[id].resize((300, 300)) for id in most_similar_ids]\n",
    "Image.fromarray(np.hstack([np.array(image) for image in similar_images]).reshape(300, 1500, 3))"
   ]
  },
  {
   "cell_type": "code",
   "execution_count": null,
   "metadata": {},
   "outputs": [],
   "source": []
  }
 ],
 "metadata": {
  "kernelspec": {
   "display_name": "Python 3",
   "language": "python",
   "name": "python3"
  },
  "language_info": {
   "codemirror_mode": {
    "name": "ipython",
    "version": 3
   },
   "file_extension": ".py",
   "mimetype": "text/x-python",
   "name": "python",
   "nbconvert_exporter": "python",
   "pygments_lexer": "ipython3",
   "version": "3.6.4"
  }
 },
 "nbformat": 4,
 "nbformat_minor": 2
}
